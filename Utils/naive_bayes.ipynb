{
 "cells": [
  {
   "cell_type": "code",
   "execution_count": 2,
   "metadata": {},
   "outputs": [
    {
     "data": {
      "text/html": [
       "<div>\n",
       "<style scoped>\n",
       "    .dataframe tbody tr th:only-of-type {\n",
       "        vertical-align: middle;\n",
       "    }\n",
       "\n",
       "    .dataframe tbody tr th {\n",
       "        vertical-align: top;\n",
       "    }\n",
       "\n",
       "    .dataframe thead th {\n",
       "        text-align: right;\n",
       "    }\n",
       "</style>\n",
       "<table border=\"1\" class=\"dataframe\">\n",
       "  <thead>\n",
       "    <tr style=\"text-align: right;\">\n",
       "      <th></th>\n",
       "      <th>Unnamed: 0</th>\n",
       "      <th>ID</th>\n",
       "      <th>Category</th>\n",
       "      <th>Resume</th>\n",
       "    </tr>\n",
       "  </thead>\n",
       "  <tbody>\n",
       "    <tr>\n",
       "      <th>0</th>\n",
       "      <td>0</td>\n",
       "      <td>1</td>\n",
       "      <td>HR</td>\n",
       "      <td>john h. smith , p.h.r . 800-991-5187 | po box ...</td>\n",
       "    </tr>\n",
       "    <tr>\n",
       "      <th>1</th>\n",
       "      <td>1</td>\n",
       "      <td>2</td>\n",
       "      <td>HR</td>\n",
       "      <td>name surname address mobile no/email personal ...</td>\n",
       "    </tr>\n",
       "    <tr>\n",
       "      <th>2</th>\n",
       "      <td>2</td>\n",
       "      <td>3</td>\n",
       "      <td>HR</td>\n",
       "      <td>anthony brown hr assistant areas of expertise ...</td>\n",
       "    </tr>\n",
       "    <tr>\n",
       "      <th>3</th>\n",
       "      <td>3</td>\n",
       "      <td>4</td>\n",
       "      <td>HR</td>\n",
       "      <td>www.downloadmela.com satheesh email id : caree...</td>\n",
       "    </tr>\n",
       "    <tr>\n",
       "      <th>4</th>\n",
       "      <td>4</td>\n",
       "      <td>5</td>\n",
       "      <td>HR</td>\n",
       "      <td>human resources director expert organizational...</td>\n",
       "    </tr>\n",
       "  </tbody>\n",
       "</table>\n",
       "</div>"
      ],
      "text/plain": [
       "   Unnamed: 0  ID Category                                             Resume\n",
       "0           0   1       HR  john h. smith , p.h.r . 800-991-5187 | po box ...\n",
       "1           1   2       HR  name surname address mobile no/email personal ...\n",
       "2           2   3       HR  anthony brown hr assistant areas of expertise ...\n",
       "3           3   4       HR  www.downloadmela.com satheesh email id : caree...\n",
       "4           4   5       HR  human resources director expert organizational..."
      ]
     },
     "execution_count": 2,
     "metadata": {},
     "output_type": "execute_result"
    }
   ],
   "source": [
    "import pandas as pd\n",
    "from sklearn.model_selection import train_test_split\n",
    "from sklearn.feature_extraction.text import CountVectorizer\n",
    "from sklearn.naive_bayes import MultinomialNB\n",
    "from sklearn.feature_extraction.text import TfidfVectorizer\n",
    "from sklearn.feature_extraction.text import TfidfTransformer\n",
    "\n",
    "df = pd.read_csv('clean_data1.csv')\n",
    "df = df.drop(['Resume'],axis=1)\n",
    "df.rename(columns={'newer_res':'Resume'},inplace=True)\n",
    "df.head()\n"
   ]
  },
  {
   "cell_type": "code",
   "execution_count": 3,
   "metadata": {},
   "outputs": [],
   "source": [
    "from io import StringIO\n",
    "col = ['Category', 'Resume']\n",
    "df = df[col]\n",
    "df = df[pd.notnull(df['Resume'])]\n",
    "df.columns = ['Category', 'Resume']\n",
    "df['category_id'] = df['Category'].factorize()[0]\n",
    "category_id_df = df[['Category', 'category_id']].drop_duplicates().sort_values('category_id')\n",
    "category_to_id = dict(category_id_df.values)\n",
    "id_to_category = dict(category_id_df[['category_id', 'Category']].values)"
   ]
  },
  {
   "cell_type": "code",
   "execution_count": 4,
   "metadata": {},
   "outputs": [],
   "source": [
    "res_train, res_test, cat_train, cat_test = train_test_split(df['Resume'], df['Category'], test_size=0.3, random_state = 15)\n",
    "\n",
    "vectorizer= CountVectorizer()\n",
    "res_counts= vectorizer.fit_transform(res_train)\n",
    "\n",
    "tfidf= TfidfTransformer()\n",
    "res_tfidf= tfidf.fit_transform(res_counts)\n",
    "\n",
    "\n",
    "classifier=MultinomialNB().fit(res_tfidf, cat_train)\n"
   ]
  },
  {
   "cell_type": "code",
   "execution_count": 5,
   "metadata": {},
   "outputs": [],
   "source": [
    "predicted = []\n",
    "for i in res_test:\n",
    "    predicted.append((classifier.predict(vectorizer.transform([i])))[0])\n"
   ]
  },
  {
   "cell_type": "code",
   "execution_count": 6,
   "metadata": {},
   "outputs": [
    {
     "data": {
      "text/html": [
       "<div>\n",
       "<style scoped>\n",
       "    .dataframe tbody tr th:only-of-type {\n",
       "        vertical-align: middle;\n",
       "    }\n",
       "\n",
       "    .dataframe tbody tr th {\n",
       "        vertical-align: top;\n",
       "    }\n",
       "\n",
       "    .dataframe thead th {\n",
       "        text-align: right;\n",
       "    }\n",
       "</style>\n",
       "<table border=\"1\" class=\"dataframe\">\n",
       "  <thead>\n",
       "    <tr style=\"text-align: right;\">\n",
       "      <th></th>\n",
       "      <th>Category</th>\n",
       "      <th>predicted</th>\n",
       "    </tr>\n",
       "  </thead>\n",
       "  <tbody>\n",
       "    <tr>\n",
       "      <th>94</th>\n",
       "      <td>Managment</td>\n",
       "      <td>Managment</td>\n",
       "    </tr>\n",
       "    <tr>\n",
       "      <th>972</th>\n",
       "      <td>Engineering</td>\n",
       "      <td>Engineering</td>\n",
       "    </tr>\n",
       "    <tr>\n",
       "      <th>125</th>\n",
       "      <td>Managment</td>\n",
       "      <td>Managment</td>\n",
       "    </tr>\n",
       "    <tr>\n",
       "      <th>1064</th>\n",
       "      <td>Building &amp; Construction</td>\n",
       "      <td>Engineering</td>\n",
       "    </tr>\n",
       "    <tr>\n",
       "      <th>993</th>\n",
       "      <td>Accountant</td>\n",
       "      <td>Accountant</td>\n",
       "    </tr>\n",
       "  </tbody>\n",
       "</table>\n",
       "</div>"
      ],
      "text/plain": [
       "                     Category    predicted\n",
       "94                  Managment    Managment\n",
       "972               Engineering  Engineering\n",
       "125                 Managment    Managment\n",
       "1064  Building & Construction  Engineering\n",
       "993                Accountant   Accountant"
      ]
     },
     "execution_count": 6,
     "metadata": {},
     "output_type": "execute_result"
    }
   ],
   "source": [
    "a= pd.DataFrame(cat_test)\n",
    "a['predicted'] = predicted\n",
    "a.head()\n"
   ]
  },
  {
   "cell_type": "code",
   "execution_count": 7,
   "metadata": {
    "scrolled": true
   },
   "outputs": [
    {
     "name": "stdout",
     "output_type": "stream",
     "text": [
      "Accuracy from Naive bayes: 0.4444444444444444\n"
     ]
    }
   ],
   "source": [
    "from sklearn.metrics import accuracy_score\n",
    "from sklearn.metrics import confusion_matrix\n",
    "accuracy=accuracy_score(a.Category, a.predicted)\n",
    "print(\"Accuracy from Naive bayes:\",accuracy)   "
   ]
  },
  {
   "cell_type": "code",
   "execution_count": 9,
   "metadata": {},
   "outputs": [
    {
     "name": "stdout",
     "output_type": "stream",
     "text": [
      "                         precision    recall  f1-score   support\n",
      "\n",
      "                     HR       0.60      0.71      0.65        17\n",
      "              Designing       1.00      0.88      0.94        17\n",
      "              Managment       1.00      0.11      0.20         9\n",
      " Information Technology       0.00      0.00      0.00         5\n",
      "              Education       0.00      0.00      0.00         2\n",
      "               Advocate       0.00      0.00      0.00        16\n",
      "   Business Development       0.00      0.00      0.00         9\n",
      "       Health & Fitness       0.00      0.00      0.00         6\n",
      "           Agricultural       0.00      0.00      0.00         5\n",
      "                    BPO       1.00      0.21      0.35        19\n",
      "                  Sales       0.00      0.00      0.00         7\n",
      "             Consultant       0.00      0.00      0.00        16\n",
      "          Digital Media       0.00      0.00      0.00         9\n",
      "             Automobile       0.00      0.00      0.00        20\n",
      "       Food & Beverages       0.67      0.14      0.24        14\n",
      "                Finance       0.49      0.90      0.63        29\n",
      "                Apparel       0.29      0.89      0.43        38\n",
      "            Engineering       0.90      0.43      0.58        21\n",
      "             Accountant       0.00      0.00      0.00         6\n",
      "Building & Construction       0.90      0.90      0.90        10\n",
      "             Architects       0.82      0.53      0.64        17\n",
      "       Public Relations       0.42      0.57      0.49        30\n",
      "                Banking       0.25      0.74      0.37        19\n",
      "                   Arts       0.00      0.00      0.00         6\n",
      "               Aviation       0.47      0.62      0.53        13\n",
      "\n",
      "            avg / total       0.43      0.44      0.37       360\n",
      "\n"
     ]
    },
    {
     "name": "stderr",
     "output_type": "stream",
     "text": [
      "/usr/local/lib/python3.5/dist-packages/sklearn/metrics/classification.py:1135: UndefinedMetricWarning: Precision and F-score are ill-defined and being set to 0.0 in labels with no predicted samples.\n",
      "  'precision', 'predicted', average, warn_for)\n"
     ]
    }
   ],
   "source": [
    "from sklearn import metrics\n",
    "\n",
    "print(metrics.classification_report(a.Category, a.predicted, target_names=df['Category'].unique()))"
   ]
  }
 ],
 "metadata": {
  "kernelspec": {
   "display_name": "Python 3",
   "language": "python",
   "name": "python3"
  },
  "language_info": {
   "codemirror_mode": {
    "name": "ipython",
    "version": 3
   },
   "file_extension": ".py",
   "mimetype": "text/x-python",
   "name": "python",
   "nbconvert_exporter": "python",
   "pygments_lexer": "ipython3",
   "version": "3.5.2"
  }
 },
 "nbformat": 4,
 "nbformat_minor": 2
}
