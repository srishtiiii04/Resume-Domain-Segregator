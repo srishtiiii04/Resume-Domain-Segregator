{
 "cells": [
  {
   "cell_type": "markdown",
   "metadata": {},
   "source": [
    "# Summarization of a Resume <br>\n",
    "** Summarization is an imporatnt task undeer text analytics. It captures all the relevent and significant information from the data hence reducing the effort to go through the data. <br>\n",
    "In the context of resume clssification, resume summarization would help in reducing the size of the data to what actually helps in classification by eliminating all noisy textual part.<br>\n",
    "At the end of summarization, it is seen that whatever noisy data these resumes had is completely eliminated (eg: advertisements, website of the source etc)**"
   ]
  },
  {
   "cell_type": "code",
   "execution_count": 195,
   "metadata": {},
   "outputs": [],
   "source": [
    "import pandas as pd \n",
    "import numpy as np \n",
    "import re\n",
    "import nltk\n",
    "from nltk.corpus import stopwords\n",
    "from wordcloud import STOPWORDS\n",
    "from nltk.probability import FreqDist\n",
    "import random\n",
    "import math"
   ]
  },
  {
   "cell_type": "code",
   "execution_count": 196,
   "metadata": {},
   "outputs": [
    {
     "name": "stdout",
     "output_type": "stream",
     "text": [
      "(1199, 5)\n"
     ]
    }
   ],
   "source": [
    "df = pd.read_csv(\"./clean_data1.csv\")\n",
    "print(df.shape)\n",
    "#df.head()\n",
    "df = df[[\"ID\",\"Category\",\"newer_res\",\"Resume\"]]"
   ]
  },
  {
   "cell_type": "code",
   "execution_count": 197,
   "metadata": {},
   "outputs": [
    {
     "data": {
      "text/html": [
       "<div>\n",
       "<style scoped>\n",
       "    .dataframe tbody tr th:only-of-type {\n",
       "        vertical-align: middle;\n",
       "    }\n",
       "\n",
       "    .dataframe tbody tr th {\n",
       "        vertical-align: top;\n",
       "    }\n",
       "\n",
       "    .dataframe thead th {\n",
       "        text-align: right;\n",
       "    }\n",
       "</style>\n",
       "<table border=\"1\" class=\"dataframe\">\n",
       "  <thead>\n",
       "    <tr style=\"text-align: right;\">\n",
       "      <th></th>\n",
       "      <th>ID</th>\n",
       "      <th>Category</th>\n",
       "      <th>newer_res</th>\n",
       "      <th>Resume</th>\n",
       "    </tr>\n",
       "  </thead>\n",
       "  <tbody>\n",
       "    <tr>\n",
       "      <th>0</th>\n",
       "      <td>1</td>\n",
       "      <td>HR</td>\n",
       "      <td>john h. smith , p.h.r . 800-991-5187 | po box ...</td>\n",
       "      <td>b'John H. Smith, P.H.R.\\n800-991-5187 | PO Box...</td>\n",
       "    </tr>\n",
       "    <tr>\n",
       "      <th>1</th>\n",
       "      <td>2</td>\n",
       "      <td>HR</td>\n",
       "      <td>name surname address mobile no/email personal ...</td>\n",
       "      <td>b'Name Surname\\nAddress\\nMobile No/Email\\nPERS...</td>\n",
       "    </tr>\n",
       "    <tr>\n",
       "      <th>2</th>\n",
       "      <td>3</td>\n",
       "      <td>HR</td>\n",
       "      <td>anthony brown hr assistant areas of expertise ...</td>\n",
       "      <td>b'Anthony Brown\\nHR Assistant\\nAREAS OF EXPERT...</td>\n",
       "    </tr>\n",
       "    <tr>\n",
       "      <th>3</th>\n",
       "      <td>4</td>\n",
       "      <td>HR</td>\n",
       "      <td>www.downloadmela.com satheesh email id : caree...</td>\n",
       "      <td>b'www.downloadmela.com\\nSatheesh\\nEMAIL ID:\\nC...</td>\n",
       "    </tr>\n",
       "    <tr>\n",
       "      <th>4</th>\n",
       "      <td>5</td>\n",
       "      <td>HR</td>\n",
       "      <td>human resources director expert organizational...</td>\n",
       "      <td>b\"HUMAN RESOURCES DIRECTOR\\n\\xef\\x82\\xb7Expert...</td>\n",
       "    </tr>\n",
       "  </tbody>\n",
       "</table>\n",
       "</div>"
      ],
      "text/plain": [
       "   ID Category                                          newer_res  \\\n",
       "0   1       HR  john h. smith , p.h.r . 800-991-5187 | po box ...   \n",
       "1   2       HR  name surname address mobile no/email personal ...   \n",
       "2   3       HR  anthony brown hr assistant areas of expertise ...   \n",
       "3   4       HR  www.downloadmela.com satheesh email id : caree...   \n",
       "4   5       HR  human resources director expert organizational...   \n",
       "\n",
       "                                              Resume  \n",
       "0  b'John H. Smith, P.H.R.\\n800-991-5187 | PO Box...  \n",
       "1  b'Name Surname\\nAddress\\nMobile No/Email\\nPERS...  \n",
       "2  b'Anthony Brown\\nHR Assistant\\nAREAS OF EXPERT...  \n",
       "3  b'www.downloadmela.com\\nSatheesh\\nEMAIL ID:\\nC...  \n",
       "4  b\"HUMAN RESOURCES DIRECTOR\\n\\xef\\x82\\xb7Expert...  "
      ]
     },
     "execution_count": 197,
     "metadata": {},
     "output_type": "execute_result"
    }
   ],
   "source": [
    "df.head()"
   ]
  },
  {
   "cell_type": "code",
   "execution_count": 198,
   "metadata": {},
   "outputs": [
    {
     "data": {
      "text/plain": [
       "'cynthia perreira 5302 trolley square crossingatlanta , ga 30306404-202-8111email : gtg504j @ mail.gatech.edu objective to obtain challenging interesting summer internship mechanical engineering education georgia institute technology atlanta , ga aug. 2002present : candidate m.s . thesis may 2004 mechanical engineering specialization design controls coursework progress : mechatronics , designing open engineering systems coursework completed : linear control systems , engineering design , numerical methods graduate research assistant : advisors dr. wayne j . book ( intelligent machine dynamics laboratory ) dr. chris paredis ( systems realization laboratory ) . currently creating systematic method determining whether hydraulic electrical power best given design problem . cumulative gpa : 3.66/4.0 massachusetts institute technology cambridge , ma sept. 1998june 2002 : graduated b.s . mechanical engineering minors biomedical engineering economics mechanical engineering : product eng . processes , design & manufacturing , thermal fluids , dynamics & modeling , controls , manufacturing systems , mechanics & materials , measurement & instrumentation , project lab . biomedical engineering : biochemistry , biomaterials , genetics , quantitative physiology economics management : applied micro , micro , macro , public , health , prob . & stat , engineering management . other : problem solving using java , communicating cyberspace , spanish iv . cumulative gpa : 4.3/5.0 academic projects massachusetts institute technology ( product process engineering ) cambridge , ma septdec 2001 : designed water-shooting remote control tank toy senior design class team 15 people . headed design turret subsystem including designing solidworks manufacturing subsystem . created product brochure industry public presentation . insight technology londonderry , nh feb.may 2001 : redesigned two others manufacturing system line produces 1000 products month . reduced cost , line throughput time , work-in-progress order lead time . massachusetts institute technology ( design & manufacturing i & ii ) cambridge , ma febdec. 2000 : designed built robot competition . designed manufactured unique yo-yo team eight people . designed solidworks , made molds using milling machine lathe , injection molded assembled 50 yo-yos . work experience massachusetts institute technology cambridge , ma juneaug. 2001 : designed structures & mechanisms subsystem three different implementations satellite swarm consisting one mother twelve daughter satellites . worked students mit , caltech stanford . used icemaker ( visual basic excel program designed caltech share parameters inputs outputs ) , netmeeting drawcraft ( solidworks add-on designed caltech facilitate creating 3-d satellite models ) share visualize different design implementations easily quickly across long distances many computers . presented dc nro ( project sponsor ) industry executives , portion design using powerpoint . participated icemaker drawcraft design system demonstration . merck & co. ( packaging technology department ) west point , pa julyaug 2000 : organized documentation , prepared samples tracked progress contractor installing new piece packaging line equipment improve performance . evaluated possible applications new technology measuring fill levels sachets lower costs . tested qualified tooling support new product launch . skills computer : proficient using matlab , modelica dymola model , simulate solve engineering problems . proficient using solidworks proengineer solid modeling . capable programming java , c , html . proficient using microsoft office . some experience adobe photoshop . language : conversant spanish . manufacturing : proficient machining , including writing machine language code using milling machine , lathe injection molding machine activities and interests society women engineers , alpha chi omega sorority , snowboarding , hiking , music'"
      ]
     },
     "execution_count": 198,
     "metadata": {},
     "output_type": "execute_result"
    }
   ],
   "source": [
    "resume = df[\"newer_res\"][math.floor(random.random()*(df.shape)[0])]\n",
    "resume"
   ]
  },
  {
   "cell_type": "code",
   "execution_count": 199,
   "metadata": {},
   "outputs": [
    {
     "data": {
      "text/plain": [
       "array(['HR', 'Designing', 'Managment', 'Information Technology',\n",
       "       'Education', 'Advocate', 'Business Development',\n",
       "       'Health & Fitness', 'Agricultural', 'BPO', 'Sales', 'Consultant',\n",
       "       'Digital Media', 'Automobile', 'Food & Beverages', 'Finance',\n",
       "       'Apparel', 'Engineering', 'Accountant', 'Building & Construction',\n",
       "       'Architects', 'Public Relations', 'Banking', 'Arts', 'Aviation'],\n",
       "      dtype=object)"
      ]
     },
     "execution_count": 199,
     "metadata": {},
     "output_type": "execute_result"
    }
   ],
   "source": [
    "df[\"Category\"].unique()"
   ]
  },
  {
   "cell_type": "code",
   "execution_count": 200,
   "metadata": {},
   "outputs": [
    {
     "name": "stdout",
     "output_type": "stream",
     "text": [
      "[('c', 'NNS'), ('y', 'VBP'), ('n', 'JJ'), ('t', 'NN'), ('h', 'NN'), ('i', 'VBZ'), ('a', 'DT'), (' ', 'JJ'), ('p', 'NN'), ('e', 'NN')]\n"
     ]
    }
   ],
   "source": [
    "token = nltk.word_tokenize(resume)\n",
    "use_data = nltk.pos_tag(resume)\n",
    "token[:10]\n",
    "print(use_data[:10])"
   ]
  },
  {
   "cell_type": "markdown",
   "metadata": {},
   "source": [
    "** Summarization is based on scoring every sentence based on criteria like weightage given to each word and selecting the sentances with most weightage. The sentence count set here is 15. **\n",
    "<br><br>\n",
    "**HOW IT WORKS**\n",
    "* Frequency distributuon of workd is per document is found.\n",
    "* Score for each sentence is found\n",
    "* Each sentence in the document is scored based on the words present in it.\n",
    "* The score given to each word is proportional to the count of its occurances.\n",
    "* The higher the score, thre more important is the sentence.\n",
    "* Top 15 senetences are the selected and presented."
   ]
  },
  {
   "cell_type": "code",
   "execution_count": 201,
   "metadata": {},
   "outputs": [],
   "source": [
    "from nltk.probability import FreqDist\n",
    "from string import punctuation\n",
    "\n",
    "def summarize(doc,words):\n",
    "    score={}\n",
    "    fd = FreqDist(words)\n",
    "    for i,t in enumerate(doc):\n",
    "        score[i] = 0\n",
    "        for j in nltk.word_tokenize(t):\n",
    "            if j in fd:\n",
    "                score[i]+=fd[j]\n",
    "    \n",
    "    r = sorted(list(score.items()),key=lambda x:x[1],reverse=True)[:math.floor(0.60*len(doc))]\n",
    "    r.sort(key=lambda x:x[0])\n",
    "    l = [doc[i[0]] for i in r]\n",
    "    return \"\\n\\n\".join(l)\n"
   ]
  },
  {
   "cell_type": "code",
   "execution_count": 202,
   "metadata": {},
   "outputs": [],
   "source": [
    "sent = nltk.sent_tokenize(resume)\n",
    "puncu = punctuation\n",
    "word_token = nltk.word_tokenize(resume)\n",
    "resume_new = \" \".join([i for i in word_token if i not in puncu])"
   ]
  },
  {
   "cell_type": "markdown",
   "metadata": {},
   "source": [
    "** Actual Resume **"
   ]
  },
  {
   "cell_type": "code",
   "execution_count": 203,
   "metadata": {},
   "outputs": [
    {
     "data": {
      "text/plain": [
       "'cynthia perreira 5302 trolley square crossingatlanta , ga 30306404-202-8111email : gtg504j @ mail.gatech.edu objective to obtain challenging interesting summer internship mechanical engineering education georgia institute technology atlanta , ga aug. 2002present : candidate m.s . thesis may 2004 mechanical engineering specialization design controls coursework progress : mechatronics , designing open engineering systems coursework completed : linear control systems , engineering design , numerical methods graduate research assistant : advisors dr. wayne j . book ( intelligent machine dynamics laboratory ) dr. chris paredis ( systems realization laboratory ) . currently creating systematic method determining whether hydraulic electrical power best given design problem . cumulative gpa : 3.66/4.0 massachusetts institute technology cambridge , ma sept. 1998june 2002 : graduated b.s . mechanical engineering minors biomedical engineering economics mechanical engineering : product eng . processes , design & manufacturing , thermal fluids , dynamics & modeling , controls , manufacturing systems , mechanics & materials , measurement & instrumentation , project lab . biomedical engineering : biochemistry , biomaterials , genetics , quantitative physiology economics management : applied micro , micro , macro , public , health , prob . & stat , engineering management . other : problem solving using java , communicating cyberspace , spanish iv . cumulative gpa : 4.3/5.0 academic projects massachusetts institute technology ( product process engineering ) cambridge , ma septdec 2001 : designed water-shooting remote control tank toy senior design class team 15 people . headed design turret subsystem including designing solidworks manufacturing subsystem . created product brochure industry public presentation . insight technology londonderry , nh feb.may 2001 : redesigned two others manufacturing system line produces 1000 products month . reduced cost , line throughput time , work-in-progress order lead time . massachusetts institute technology ( design & manufacturing i & ii ) cambridge , ma febdec. 2000 : designed built robot competition . designed manufactured unique yo-yo team eight people . designed solidworks , made molds using milling machine lathe , injection molded assembled 50 yo-yos . work experience massachusetts institute technology cambridge , ma juneaug. 2001 : designed structures & mechanisms subsystem three different implementations satellite swarm consisting one mother twelve daughter satellites . worked students mit , caltech stanford . used icemaker ( visual basic excel program designed caltech share parameters inputs outputs ) , netmeeting drawcraft ( solidworks add-on designed caltech facilitate creating 3-d satellite models ) share visualize different design implementations easily quickly across long distances many computers . presented dc nro ( project sponsor ) industry executives , portion design using powerpoint . participated icemaker drawcraft design system demonstration . merck & co. ( packaging technology department ) west point , pa julyaug 2000 : organized documentation , prepared samples tracked progress contractor installing new piece packaging line equipment improve performance . evaluated possible applications new technology measuring fill levels sachets lower costs . tested qualified tooling support new product launch . skills computer : proficient using matlab , modelica dymola model , simulate solve engineering problems . proficient using solidworks proengineer solid modeling . capable programming java , c , html . proficient using microsoft office . some experience adobe photoshop . language : conversant spanish . manufacturing : proficient machining , including writing machine language code using milling machine , lathe injection molding machine activities and interests society women engineers , alpha chi omega sorority , snowboarding , hiking , music'"
      ]
     },
     "execution_count": 203,
     "metadata": {},
     "output_type": "execute_result"
    }
   ],
   "source": [
    "resume"
   ]
  },
  {
   "cell_type": "code",
   "execution_count": 204,
   "metadata": {},
   "outputs": [],
   "source": [
    "summ = summarize(sent,resume_new)"
   ]
  },
  {
   "cell_type": "markdown",
   "metadata": {},
   "source": [
    "** Summarized Resume **"
   ]
  },
  {
   "cell_type": "code",
   "execution_count": 205,
   "metadata": {},
   "outputs": [
    {
     "name": "stdout",
     "output_type": "stream",
     "text": [
      "cynthia perreira 5302 trolley square crossingatlanta , ga 30306404-202-8111email : gtg504j @ mail.gatech.edu objective to obtain challenging interesting summer internship mechanical engineering education georgia institute technology atlanta , ga aug. 2002present : candidate m.s .\n",
      "\n",
      "thesis may 2004 mechanical engineering specialization design controls coursework progress : mechatronics , designing open engineering systems coursework completed : linear control systems , engineering design , numerical methods graduate research assistant : advisors dr. wayne j .\n",
      "\n",
      "book ( intelligent machine dynamics laboratory ) dr. chris paredis ( systems realization laboratory ) .\n",
      "\n",
      "currently creating systematic method determining whether hydraulic electrical power best given design problem .\n",
      "\n",
      "cumulative gpa : 3.66/4.0 massachusetts institute technology cambridge , ma sept. 1998june 2002 : graduated b.s .\n",
      "\n",
      "mechanical engineering minors biomedical engineering economics mechanical engineering : product eng .\n",
      "\n",
      "processes , design & manufacturing , thermal fluids , dynamics & modeling , controls , manufacturing systems , mechanics & materials , measurement & instrumentation , project lab .\n",
      "\n",
      "biomedical engineering : biochemistry , biomaterials , genetics , quantitative physiology economics management : applied micro , micro , macro , public , health , prob .\n",
      "\n",
      "& stat , engineering management .\n",
      "\n",
      "other : problem solving using java , communicating cyberspace , spanish iv .\n",
      "\n",
      "cumulative gpa : 4.3/5.0 academic projects massachusetts institute technology ( product process engineering ) cambridge , ma septdec 2001 : designed water-shooting remote control tank toy senior design class team 15 people .\n",
      "\n",
      "headed design turret subsystem including designing solidworks manufacturing subsystem .\n",
      "\n",
      "created product brochure industry public presentation .\n",
      "\n",
      "insight technology londonderry , nh feb.may 2001 : redesigned two others manufacturing system line produces 1000 products month .\n",
      "\n",
      "reduced cost , line throughput time , work-in-progress order lead time .\n",
      "\n",
      "massachusetts institute technology ( design & manufacturing i & ii ) cambridge , ma febdec.\n",
      "\n",
      "2000 : designed built robot competition .\n",
      "\n",
      "designed manufactured unique yo-yo team eight people .\n",
      "\n",
      "designed solidworks , made molds using milling machine lathe , injection molded assembled 50 yo-yos .\n",
      "\n",
      "work experience massachusetts institute technology cambridge , ma juneaug.\n",
      "\n",
      "capable programming java , c , html .\n"
     ]
    }
   ],
   "source": [
    "print(summ)"
   ]
  },
  {
   "cell_type": "code",
   "execution_count": 209,
   "metadata": {},
   "outputs": [
    {
     "data": {
      "text/plain": [
       "35"
      ]
     },
     "execution_count": 209,
     "metadata": {},
     "output_type": "execute_result"
    }
   ],
   "source": [
    "len(sent)"
   ]
  },
  {
   "cell_type": "code",
   "execution_count": null,
   "metadata": {},
   "outputs": [],
   "source": []
  },
  {
   "cell_type": "code",
   "execution_count": null,
   "metadata": {},
   "outputs": [],
   "source": []
  },
  {
   "cell_type": "code",
   "execution_count": null,
   "metadata": {},
   "outputs": [],
   "source": []
  }
 ],
 "metadata": {
  "kernelspec": {
   "display_name": "Python 3",
   "language": "python",
   "name": "python3"
  },
  "language_info": {
   "codemirror_mode": {
    "name": "ipython",
    "version": 3
   },
   "file_extension": ".py",
   "mimetype": "text/x-python",
   "name": "python",
   "nbconvert_exporter": "python",
   "pygments_lexer": "ipython3",
   "version": "3.6.6"
  }
 },
 "nbformat": 4,
 "nbformat_minor": 2
}
